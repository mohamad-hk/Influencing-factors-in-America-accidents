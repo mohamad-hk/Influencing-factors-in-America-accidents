{
  "cells": [
    {
      "cell_type": "code",
      "execution_count": null,
      "metadata": {
        "id": "xZXczVGiyomU"
      },
      "outputs": [],
      "source": [
        "# !mkdir ~/.kaggle\n",
        "# !cp kaggle.json ~/.kaggle/\n",
        "# !chmod 600 ~/.kaggle/kaggle.json\n",
        "# !kaggle datasets download -d sobhanmoosavi/us-accidents\n",
        "# !unzip us-accidents.zip"
      ]
    },
    {
      "cell_type": "code",
      "execution_count": null,
      "metadata": {
        "id": "4AgNE6uXy2N9"
      },
      "outputs": [],
      "source": [
        "# !git clone https://github.com/rapidsai/rapidsai-csp-utils.git\n",
        "# !python rapidsai-csp-utils/colab/pip-install.py"
      ]
    },
    {
      "cell_type": "code",
      "execution_count": null,
      "metadata": {
        "id": "F_UfB5Nq8Npw"
      },
      "outputs": [],
      "source": [
        "import numpy as np\n",
        "import pandas as pd\n",
        "import matplotlib.pyplot as plt\n",
        "import time\n",
        "from tabulate import tabulate\n",
        "import cudf\n",
        "from sklearn.preprocessing import LabelEncoder\n",
        "from sklearn.model_selection import train_test_split\n",
        "from sklearn.metrics import classification_report, accuracy_score\n",
        "import xgboost as xgb"
      ]
    },
    {
      "cell_type": "code",
      "execution_count": null,
      "metadata": {
        "collapsed": true,
        "id": "sIqXnXRS0gfw"
      },
      "outputs": [],
      "source": [
        "df=cudf.read_csv(\"US_Accidents_March23.csv\")"
      ]
    },
    {
      "cell_type": "code",
      "execution_count": null,
      "metadata": {
        "colab": {
          "base_uri": "https://localhost:8080/"
        },
        "id": "-zJF3hbY5564",
        "outputId": "96c49735-8fdb-419f-be26-2005f07a9ebc"
      },
      "outputs": [
        {
          "output_type": "stream",
          "name": "stdout",
          "text": [
            "<class 'cudf.core.dataframe.DataFrame'>\n",
            "RangeIndex: 7728394 entries, 0 to 7728393\n",
            "Data columns (total 46 columns):\n",
            " #   Column                 Dtype\n",
            "---  ------                 -----\n",
            " 0   ID                     object\n",
            " 1   Source                 object\n",
            " 2   Severity               int64\n",
            " 3   Start_Time             object\n",
            " 4   End_Time               object\n",
            " 5   Start_Lat              float64\n",
            " 6   Start_Lng              float64\n",
            " 7   End_Lat                float64\n",
            " 8   End_Lng                float64\n",
            " 9   Distance(mi)           float64\n",
            " 10  Description            object\n",
            " 11  Street                 object\n",
            " 12  City                   object\n",
            " 13  County                 object\n",
            " 14  State                  object\n",
            " 15  Zipcode                object\n",
            " 16  Country                object\n",
            " 17  Timezone               object\n",
            " 18  Airport_Code           object\n",
            " 19  Weather_Timestamp      object\n",
            " 20  Temperature(F)         float64\n",
            " 21  Wind_Chill(F)          float64\n",
            " 22  Humidity(%)            float64\n",
            " 23  Pressure(in)           float64\n",
            " 24  Visibility(mi)         float64\n",
            " 25  Wind_Direction         object\n",
            " 26  Wind_Speed(mph)        float64\n",
            " 27  Precipitation(in)      float64\n",
            " 28  Weather_Condition      object\n",
            " 29  Amenity                bool\n",
            " 30  Bump                   bool\n",
            " 31  Crossing               bool\n",
            " 32  Give_Way               bool\n",
            " 33  Junction               bool\n",
            " 34  No_Exit                bool\n",
            " 35  Railway                bool\n",
            " 36  Roundabout             bool\n",
            " 37  Station                bool\n",
            " 38  Stop                   bool\n",
            " 39  Traffic_Calming        bool\n",
            " 40  Traffic_Signal         bool\n",
            " 41  Turning_Loop           bool\n",
            " 42  Sunrise_Sunset         object\n",
            " 43  Civil_Twilight         object\n",
            " 44  Nautical_Twilight      object\n",
            " 45  Astronomical_Twilight  object\n",
            "dtypes: bool(13), float64(12), int64(1), object(20)\n",
            "memory usage: 3.0+ GB\n"
          ]
        }
      ],
      "source": [
        "df.info()"
      ]
    },
    {
      "cell_type": "code",
      "execution_count": null,
      "metadata": {
        "id": "Vq0xNTjb8zxz"
      },
      "outputs": [],
      "source": [
        "df.drop(columns=[\"ID\", \"Description\", \"Country\",\"Source\",\"Timezone\"], inplace=True)"
      ]
    },
    {
      "cell_type": "code",
      "execution_count": null,
      "metadata": {
        "id": "nlfXNl4wtbTk"
      },
      "outputs": [],
      "source": [
        "df['Precipitation(in)'] = df['Precipitation(in)'].fillna(0)\n",
        "df['End_Lat'] = df['End_Lat'].fillna(df['Start_Lat'])\n",
        "df['End_Lng'] = df['End_Lng'].fillna(df['Start_Lng'])\n",
        "df['Precipitation(in)'] = df['Precipitation(in)'].fillna(0)\n",
        "df['Wind_Speed(mph)'] = df['Wind_Speed(mph)'].fillna(df['Wind_Speed(mph)'].median())\n",
        "df['Pressure(in)'] = df['Pressure(in)'].fillna(df['Pressure(in)'].median())\n",
        "df['Visibility(mi)'] = df['Visibility(mi)'].fillna(df['Visibility(mi)'].median())\n",
        "df['Weather_Timestamp'] = df['Weather_Timestamp'].fillna(df['Start_Time'])\n",
        "df['Zipcode'] = df['Zipcode'].fillna(\"00000\")\n",
        "df['Humidity(%)'] = df['Humidity(%)'].fillna(df['Humidity(%)'].median())"
      ]
    },
    {
      "cell_type": "code",
      "execution_count": null,
      "metadata": {
        "id": "7CwLLOZL_0Mb"
      },
      "outputs": [],
      "source": [
        "text_columns = [\n",
        "    \"City\", \"State\", \"Weather_Condition\",\"Street\",\n",
        "    \"Wind_Direction\", \"Sunrise_Sunset\", \"Civil_Twilight\",\n",
        "    \"Nautical_Twilight\", \"Astronomical_Twilight\",\"County\"\n",
        "]\n",
        "\n",
        "for c in text_columns:\n",
        "    encoder = LabelEncoder()\n",
        "    encoded = encoder.fit_transform(df[c].to_pandas().astype(str))\n",
        "    df[c] = cudf.Series(encoded).astype(\"uint16\")"
      ]
    },
    {
      "cell_type": "code",
      "execution_count": null,
      "metadata": {
        "id": "JmxO7GFD_9M2"
      },
      "outputs": [],
      "source": [
        "df[\"Airport_Code\"] = cudf.Series(encoder.fit_transform(df[\"Airport_Code\"].to_pandas())).astype(\"uint8\")\n",
        "\n",
        "df['Humidity(%)'] = df['Humidity(%)'].astype('uint8')\n",
        "df['Temperature(F)'] = df['Temperature(F)'].astype('int16')\n",
        "df['Wind_Chill(F)'] = df['Wind_Chill(F)'].astype('int8')\n",
        "df['Visibility(mi)'] = df['Visibility(mi)'].astype('int16')\n",
        "df['Wind_Speed(mph)'] = df['Wind_Speed(mph)'].astype('int16')"
      ]
    },
    {
      "cell_type": "code",
      "execution_count": null,
      "metadata": {
        "id": "w42pBm0gBtDr"
      },
      "outputs": [],
      "source": [
        "cols = [\"Amenity\", \"Bump\", \"Crossing\", \"Give_Way\", \"Junction\", \"No_Exit\",\n",
        "        \"Railway\", \"Roundabout\", \"Station\", \"Stop\", \"Traffic_Calming\",\n",
        "        \"Traffic_Signal\", \"Turning_Loop\",\"Humidity(%)\",\"Temperature(F)\"]\n",
        "\n",
        "for col in cols:\n",
        "    df[col] = df[col].astype(\"uint8\")\n",
        "\n",
        "df['Temperature(F)'] = df['Temperature(F)'].fillna(df['Temperature(F)'].median())\n",
        "df['Wind_Chill(F)'] = df['Wind_Chill(F)'].fillna(df['Wind_Chill(F)'].median())\n"
      ]
    },
    {
      "cell_type": "code",
      "execution_count": null,
      "metadata": {
        "id": "Y3lp6qQUsNdI"
      },
      "outputs": [],
      "source": [
        "float_cols = [\"Distance(mi)\", \"Pressure(in)\", \"Precipitation(in)\"]\n",
        "\n",
        "for col in float_cols:\n",
        "    df[col] = df[col].round(1).astype(\"float32\")\n"
      ]
    },
    {
      "cell_type": "code",
      "execution_count": null,
      "metadata": {
        "id": "E74J5t8_2Lo5"
      },
      "outputs": [],
      "source": [
        "def auto_data_type(df):\n",
        "    for col in df.select_dtypes(include=[np.number]).columns:\n",
        "        min_value = df[col].min()\n",
        "        max_value = df[col].max()\n",
        "\n",
        "        if pd.api.types.is_float_dtype(df[col]):\n",
        "            df[col] = df[col].astype(np.float32)\n",
        "        elif min_value >= 0:\n",
        "            if max_value <= 255:\n",
        "                df[col] = df[col].astype(np.uint8)\n",
        "            elif max_value <= 65535:\n",
        "                df[col] = df[col].astype(np.uint16)\n",
        "            elif max_value <= 4294967295:\n",
        "                df[col] = df[col].astype(np.uint32)\n",
        "            else:\n",
        "                df[col] = df[col].astype(np.uint64)\n",
        "        else:\n",
        "            if -128 <= min_value and max_value <= 127:\n",
        "                df[col] = df[col].astype(np.int8)\n",
        "            elif -32768 <= min_value and max_value <= 32767:\n",
        "                df[col] = df[col].astype(np.int16)\n",
        "            elif -2147483648 <= min_value and max_value <= 2147483647:\n",
        "                df[col] = df[col].astype(np.int32)\n",
        "            else:\n",
        "                df[col] = df[col].astype(np.int64)\n",
        "    return df\n",
        "\n",
        "\n",
        "converted_df=auto_data_type(df)"
      ]
    },
    {
      "cell_type": "code",
      "execution_count": null,
      "metadata": {
        "colab": {
          "base_uri": "https://localhost:8080/"
        },
        "id": "oSO6dgADhXDz",
        "outputId": "acfa5405-6599-49d6-be77-0ae8bca0cc01"
      },
      "outputs": [
        {
          "output_type": "stream",
          "name": "stdout",
          "text": [
            "<class 'cudf.core.dataframe.DataFrame'>\n",
            "RangeIndex: 7728394 entries, 0 to 7728393\n",
            "Data columns (total 41 columns):\n",
            " #   Column                 Dtype\n",
            "---  ------                 -----\n",
            " 0   Severity               uint8\n",
            " 1   Start_Time             object\n",
            " 2   End_Time               object\n",
            " 3   Start_Lat              float32\n",
            " 4   Start_Lng              float32\n",
            " 5   End_Lat                float32\n",
            " 6   End_Lng                float32\n",
            " 7   Distance(mi)           float32\n",
            " 8   Street                 uint16\n",
            " 9   City                   uint16\n",
            " 10  County                 uint16\n",
            " 11  State                  uint8\n",
            " 12  Zipcode                object\n",
            " 13  Airport_Code           uint8\n",
            " 14  Weather_Timestamp      object\n",
            " 15  Temperature(F)         uint8\n",
            " 16  Wind_Chill(F)          int8\n",
            " 17  Humidity(%)            uint8\n",
            " 18  Pressure(in)           float32\n",
            " 19  Visibility(mi)         uint8\n",
            " 20  Wind_Direction         uint8\n",
            " 21  Wind_Speed(mph)        uint16\n",
            " 22  Precipitation(in)      float32\n",
            " 23  Weather_Condition      uint8\n",
            " 24  Amenity                uint8\n",
            " 25  Bump                   uint8\n",
            " 26  Crossing               uint8\n",
            " 27  Give_Way               uint8\n",
            " 28  Junction               uint8\n",
            " 29  No_Exit                uint8\n",
            " 30  Railway                uint8\n",
            " 31  Roundabout             uint8\n",
            " 32  Station                uint8\n",
            " 33  Stop                   uint8\n",
            " 34  Traffic_Calming        uint8\n",
            " 35  Traffic_Signal         uint8\n",
            " 36  Turning_Loop           uint8\n",
            " 37  Sunrise_Sunset         uint8\n",
            " 38  Civil_Twilight         uint8\n",
            " 39  Nautical_Twilight      uint8\n",
            " 40  Astronomical_Twilight  uint8\n",
            "dtypes: float32(7), int8(1), object(4), uint16(4), uint8(25)\n",
            "memory usage: 1.0+ GB\n"
          ]
        }
      ],
      "source": [
        "converted_df.info()"
      ]
    },
    {
      "cell_type": "code",
      "source": [
        "df = converted_df.copy()\n",
        "\n",
        "time_cols = ['Start_Time', 'End_Time', 'Weather_Timestamp']\n",
        "\n",
        "for col in time_cols:\n",
        "    if col in df.columns:\n",
        "        ps = df[col].astype('str').to_pandas()\n",
        "        ps_dt = pd.to_datetime(ps, errors='coerce')\n",
        "\n",
        "        gs_dt = cudf.Series(ps_dt)\n",
        "\n",
        "        prefix = col.replace('_Timestamp', '').replace('_Time', '')\n",
        "        df[f'{prefix}_Year']    = gs_dt.dt.year\n",
        "        df[f'{prefix}_Month']   = gs_dt.dt.month\n",
        "        df[f'{prefix}_Day']     = gs_dt.dt.day\n",
        "        df[f'{prefix}_Hour']    = gs_dt.dt.hour\n",
        "        df[f'{prefix}_Weekday'] = gs_dt.dt.weekday\n",
        "\n",
        "if 'Zipcode' in df.columns:\n",
        "    ps_zip = df['Zipcode'].astype('str').to_pandas().str.extract(r'(\\d+)')[0]\n",
        "    ps_zip = pd.to_numeric(ps_zip, errors='coerce').fillna(0).astype('int32')\n",
        "    df['Zipcode_num'] = cudf.Series(ps_zip)"
      ],
      "metadata": {
        "id": "PUjcjgHPS1VW"
      },
      "execution_count": null,
      "outputs": []
    },
    {
      "cell_type": "code",
      "source": [
        "df_pd = df.to_pandas()\n",
        "\n",
        "y = df_pd['Severity']- 1\n",
        "\n",
        "num_cols = [c for c in df_pd.columns if pd.api.types.is_numeric_dtype(df_pd[c])]\n",
        "X = df_pd[num_cols].drop(columns=['Severity'])\n"
      ],
      "metadata": {
        "id": "0Mof4JvoVUGk"
      },
      "execution_count": null,
      "outputs": []
    },
    {
      "cell_type": "code",
      "execution_count": null,
      "metadata": {
        "id": "7tc0pHvONG-P"
      },
      "outputs": [],
      "source": [
        "x_train, x_test, y_train, y_test = train_test_split(X, y, test_size=0.2, stratify=y, random_state=42)"
      ]
    },
    {
      "cell_type": "code",
      "execution_count": null,
      "metadata": {
        "id": "gLz2ZvtVMMTR"
      },
      "outputs": [],
      "source": [
        "class_weights = { 0: 15, 1: 0.5, 2: 1,3: 5}\n",
        "\n",
        "sample_weights = y_train.map(class_weights).astype('float32')\n",
        "\n",
        "model = xgb.XGBClassifier(\n",
        "    device='cuda',\n",
        "    learning_rate=0.05,\n",
        "    n_estimators=500,\n",
        "    max_depth=6,\n",
        "    reg_lambda=10,\n",
        ")\n",
        "\n",
        "\n",
        "model.fit(x_train, y_train)\n",
        "y_pred = model.predict(x_test)"
      ]
    },
    {
      "cell_type": "code",
      "source": [
        "print(classification_report(y_test, y_pred))"
      ],
      "metadata": {
        "colab": {
          "base_uri": "https://localhost:8080/"
        },
        "id": "FqRKsEaeW5vt",
        "outputId": "a00b74a2-fbb9-418f-8748-341321c3769e"
      },
      "execution_count": null,
      "outputs": [
        {
          "output_type": "stream",
          "name": "stdout",
          "text": [
            "              precision    recall  f1-score   support\n",
            "\n",
            "           0       0.72      0.43      0.54     13473\n",
            "           1       0.90      0.96      0.93   1231396\n",
            "           2       0.77      0.60      0.67    259868\n",
            "           3       0.66      0.17      0.27     40942\n",
            "\n",
            "    accuracy                           0.88   1545679\n",
            "   macro avg       0.76      0.54      0.60   1545679\n",
            "weighted avg       0.87      0.88      0.86   1545679\n",
            "\n"
          ]
        }
      ]
    }
  ],
  "metadata": {
    "accelerator": "GPU",
    "colab": {
      "gpuType": "T4",
      "provenance": []
    },
    "kernelspec": {
      "display_name": "Python 3",
      "name": "python3"
    },
    "language_info": {
      "name": "python"
    }
  },
  "nbformat": 4,
  "nbformat_minor": 0
}