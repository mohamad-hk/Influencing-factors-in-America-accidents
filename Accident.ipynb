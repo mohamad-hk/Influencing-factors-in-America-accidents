{
  "nbformat": 4,
  "nbformat_minor": 0,
  "metadata": {
    "colab": {
      "provenance": [],
      "gpuType": "T4",
      "authorship_tag": "ABX9TyPZ39ZmAHqugyKoahZMHhBV"
    },
    "kernelspec": {
      "name": "python3",
      "display_name": "Python 3"
    },
    "language_info": {
      "name": "python"
    },
    "accelerator": "GPU"
  },
  "cells": [
    {
      "cell_type": "code",
      "execution_count": 88,
      "metadata": {
        "id": "xZXczVGiyomU"
      },
      "outputs": [],
      "source": [
        "# !mkdir ~/.kaggle\n",
        "# !cp kaggle.json ~/.kaggle/\n",
        "# !chmod 600 ~/.kaggle/kaggle.json\n",
        "# !kaggle datasets download -d sobhanmoosavi/us-accidents\n",
        "# !unzip us-accidents.zip"
      ]
    },
    {
      "cell_type": "code",
      "source": [
        "# !git clone https://github.com/rapidsai/rapidsai-csp-utils.git\n",
        "# !python rapidsai-csp-utils/colab/pip-install.py"
      ],
      "metadata": {
        "id": "4AgNE6uXy2N9"
      },
      "execution_count": 89,
      "outputs": []
    },
    {
      "cell_type": "code",
      "source": [
        "import numpy as np\n",
        "import pandas as pd\n",
        "import time\n",
        "from tabulate import tabulate\n",
        "import cudf\n",
        "from sklearn.preprocessing import LabelEncoder"
      ],
      "metadata": {
        "id": "F_UfB5Nq8Npw"
      },
      "execution_count": 90,
      "outputs": []
    },
    {
      "cell_type": "code",
      "source": [
        "df=cudf.read_csv(\"US_Accidents_March23.csv\")"
      ],
      "metadata": {
        "id": "sIqXnXRS0gfw",
        "collapsed": true
      },
      "execution_count": 91,
      "outputs": []
    },
    {
      "cell_type": "code",
      "source": [
        "df.info()"
      ],
      "metadata": {
        "id": "-zJF3hbY5564",
        "colab": {
          "base_uri": "https://localhost:8080/"
        },
        "outputId": "36cc6758-ed1f-4587-ec4a-5e26080d9583"
      },
      "execution_count": 92,
      "outputs": [
        {
          "output_type": "stream",
          "name": "stdout",
          "text": [
            "<class 'cudf.core.dataframe.DataFrame'>\n",
            "RangeIndex: 7728394 entries, 0 to 7728393\n",
            "Data columns (total 46 columns):\n",
            " #   Column                 Dtype\n",
            "---  ------                 -----\n",
            " 0   ID                     object\n",
            " 1   Source                 object\n",
            " 2   Severity               int64\n",
            " 3   Start_Time             object\n",
            " 4   End_Time               object\n",
            " 5   Start_Lat              float64\n",
            " 6   Start_Lng              float64\n",
            " 7   End_Lat                float64\n",
            " 8   End_Lng                float64\n",
            " 9   Distance(mi)           float64\n",
            " 10  Description            object\n",
            " 11  Street                 object\n",
            " 12  City                   object\n",
            " 13  County                 object\n",
            " 14  State                  object\n",
            " 15  Zipcode                object\n",
            " 16  Country                object\n",
            " 17  Timezone               object\n",
            " 18  Airport_Code           object\n",
            " 19  Weather_Timestamp      object\n",
            " 20  Temperature(F)         float64\n",
            " 21  Wind_Chill(F)          float64\n",
            " 22  Humidity(%)            float64\n",
            " 23  Pressure(in)           float64\n",
            " 24  Visibility(mi)         float64\n",
            " 25  Wind_Direction         object\n",
            " 26  Wind_Speed(mph)        float64\n",
            " 27  Precipitation(in)      float64\n",
            " 28  Weather_Condition      object\n",
            " 29  Amenity                bool\n",
            " 30  Bump                   bool\n",
            " 31  Crossing               bool\n",
            " 32  Give_Way               bool\n",
            " 33  Junction               bool\n",
            " 34  No_Exit                bool\n",
            " 35  Railway                bool\n",
            " 36  Roundabout             bool\n",
            " 37  Station                bool\n",
            " 38  Stop                   bool\n",
            " 39  Traffic_Calming        bool\n",
            " 40  Traffic_Signal         bool\n",
            " 41  Turning_Loop           bool\n",
            " 42  Sunrise_Sunset         object\n",
            " 43  Civil_Twilight         object\n",
            " 44  Nautical_Twilight      object\n",
            " 45  Astronomical_Twilight  object\n",
            "dtypes: bool(13), float64(12), int64(1), object(20)\n",
            "memory usage: 3.0+ GB\n"
          ]
        }
      ]
    },
    {
      "cell_type": "code",
      "source": [
        "df.drop(columns=[\"ID\", \"Description\", \"Country\",\"Source\",\"Timezone\"], inplace=True)\n",
        "df.info()"
      ],
      "metadata": {
        "id": "Vq0xNTjb8zxz",
        "colab": {
          "base_uri": "https://localhost:8080/"
        },
        "outputId": "7d641bc7-6faa-4d3b-fdab-a9ca32337db4"
      },
      "execution_count": 93,
      "outputs": [
        {
          "output_type": "stream",
          "name": "stdout",
          "text": [
            "<class 'cudf.core.dataframe.DataFrame'>\n",
            "RangeIndex: 7728394 entries, 0 to 7728393\n",
            "Data columns (total 41 columns):\n",
            " #   Column                 Dtype\n",
            "---  ------                 -----\n",
            " 0   Severity               int64\n",
            " 1   Start_Time             object\n",
            " 2   End_Time               object\n",
            " 3   Start_Lat              float64\n",
            " 4   Start_Lng              float64\n",
            " 5   End_Lat                float64\n",
            " 6   End_Lng                float64\n",
            " 7   Distance(mi)           float64\n",
            " 8   Street                 object\n",
            " 9   City                   object\n",
            " 10  County                 object\n",
            " 11  State                  object\n",
            " 12  Zipcode                object\n",
            " 13  Airport_Code           object\n",
            " 14  Weather_Timestamp      object\n",
            " 15  Temperature(F)         float64\n",
            " 16  Wind_Chill(F)          float64\n",
            " 17  Humidity(%)            float64\n",
            " 18  Pressure(in)           float64\n",
            " 19  Visibility(mi)         float64\n",
            " 20  Wind_Direction         object\n",
            " 21  Wind_Speed(mph)        float64\n",
            " 22  Precipitation(in)      float64\n",
            " 23  Weather_Condition      object\n",
            " 24  Amenity                bool\n",
            " 25  Bump                   bool\n",
            " 26  Crossing               bool\n",
            " 27  Give_Way               bool\n",
            " 28  Junction               bool\n",
            " 29  No_Exit                bool\n",
            " 30  Railway                bool\n",
            " 31  Roundabout             bool\n",
            " 32  Station                bool\n",
            " 33  Stop                   bool\n",
            " 34  Traffic_Calming        bool\n",
            " 35  Traffic_Signal         bool\n",
            " 36  Turning_Loop           bool\n",
            " 37  Sunrise_Sunset         object\n",
            " 38  Civil_Twilight         object\n",
            " 39  Nautical_Twilight      object\n",
            " 40  Astronomical_Twilight  object\n",
            "dtypes: bool(13), float64(12), int64(1), object(15)\n",
            "memory usage: 2.2+ GB\n"
          ]
        }
      ]
    },
    {
      "cell_type": "code",
      "source": [
        "df['Precipitation(in)'] = df['Precipitation(in)'].fillna(0)\n",
        "df['End_Lat'] = df['End_Lat'].fillna(df['Start_Lat'])\n",
        "df['End_Lng'] = df['End_Lng'].fillna(df['Start_Lng'])\n",
        "df['Precipitation(in)'] = df['Precipitation(in)'].fillna(0)\n",
        "df['Wind_Speed(mph)'] = df['Wind_Speed(mph)'].fillna(df['Wind_Speed(mph)'].median())\n",
        "df['Pressure(in)'] = df['Pressure(in)'].fillna(df['Pressure(in)'].median())\n",
        "df['Visibility(mi)'] = df['Visibility(mi)'].fillna(df['Visibility(mi)'].median())\n",
        "df['Weather_Timestamp'] = df['Weather_Timestamp'].fillna(df['Start_Time'])\n",
        "df['Zipcode'] = df['Zipcode'].fillna(\"00000\")\n",
        "df['Humidity(%)'] = df['Humidity(%)'].fillna(df['Humidity(%)'].median())"
      ],
      "metadata": {
        "id": "nlfXNl4wtbTk"
      },
      "execution_count": 94,
      "outputs": []
    },
    {
      "cell_type": "code",
      "source": [
        "text_columns = [\n",
        "    \"City\", \"State\", \"Weather_Condition\",\"Street\",\n",
        "    \"Wind_Direction\", \"Sunrise_Sunset\", \"Civil_Twilight\",\n",
        "    \"Nautical_Twilight\", \"Astronomical_Twilight\",\"County\"\n",
        "]\n",
        "\n",
        "for c in text_columns:\n",
        "    encoder = LabelEncoder()\n",
        "    encoded = encoder.fit_transform(df[c].to_pandas().astype(str))\n",
        "    df[c] = cudf.Series(encoded).astype(\"uint16\")"
      ],
      "metadata": {
        "id": "7CwLLOZL_0Mb"
      },
      "execution_count": 95,
      "outputs": []
    },
    {
      "cell_type": "code",
      "source": [
        "df[\"Airport_Code\"] = cudf.Series(encoder.fit_transform(df[\"Airport_Code\"].to_pandas())).astype(\"uint8\")\n",
        "\n",
        "df['Humidity(%)'] = df['Humidity(%)'].astype('uint8')\n",
        "df['Temperature(F)'] = df['Temperature(F)'].astype('int16')\n",
        "df['Wind_Chill(F)'] = df['Wind_Chill(F)'].astype('int8')\n",
        "df['Visibility(mi)'] = df['Visibility(mi)'].astype('int16')\n",
        "df['Wind_Speed(mph)'] = df['Wind_Speed(mph)'].astype('int16')"
      ],
      "metadata": {
        "id": "JmxO7GFD_9M2"
      },
      "execution_count": 96,
      "outputs": []
    },
    {
      "cell_type": "code",
      "source": [
        "cols = [\"Amenity\", \"Bump\", \"Crossing\", \"Give_Way\", \"Junction\", \"No_Exit\",\n",
        "        \"Railway\", \"Roundabout\", \"Station\", \"Stop\", \"Traffic_Calming\",\n",
        "        \"Traffic_Signal\", \"Turning_Loop\",\"Humidity(%)\",\"Temperature(F)\"]\n",
        "\n",
        "for col in cols:\n",
        "    df[col] = df[col].astype(\"uint8\")\n",
        "\n",
        "df['Temperature(F)'] = df['Temperature(F)'].fillna(df['Temperature(F)'].median())\n",
        "df['Wind_Chill(F)'] = df['Wind_Chill(F)'].fillna(df['Wind_Chill(F)'].median())\n"
      ],
      "metadata": {
        "id": "w42pBm0gBtDr"
      },
      "execution_count": 97,
      "outputs": []
    },
    {
      "cell_type": "code",
      "source": [
        "float_cols = [\"Distance(mi)\", \"Pressure(in)\", \"Precipitation(in)\"]\n",
        "\n",
        "for col in float_cols:\n",
        "    df[col] = df[col].round(1).astype(\"float32\")\n"
      ],
      "metadata": {
        "id": "Y3lp6qQUsNdI"
      },
      "execution_count": 98,
      "outputs": []
    },
    {
      "cell_type": "code",
      "source": [
        "def auto_data_type(df):\n",
        "    for col in df.select_dtypes(include=[np.number]).columns:\n",
        "        min_value = df[col].min()\n",
        "        max_value = df[col].max()\n",
        "\n",
        "        if pd.api.types.is_float_dtype(df[col]):\n",
        "            df[col] = df[col].astype(np.float32)\n",
        "        elif min_value >= 0:\n",
        "            if max_value <= 255:\n",
        "                df[col] = df[col].astype(np.uint8)\n",
        "            elif max_value <= 65535:\n",
        "                df[col] = df[col].astype(np.uint16)\n",
        "            elif max_value <= 4294967295:\n",
        "                df[col] = df[col].astype(np.uint32)\n",
        "            else:\n",
        "                df[col] = df[col].astype(np.uint64)\n",
        "        else:\n",
        "            if -128 <= min_value and max_value <= 127:\n",
        "                df[col] = df[col].astype(np.int8)\n",
        "            elif -32768 <= min_value and max_value <= 32767:\n",
        "                df[col] = df[col].astype(np.int16)\n",
        "            elif -2147483648 <= min_value and max_value <= 2147483647:\n",
        "                df[col] = df[col].astype(np.int32)\n",
        "            else:\n",
        "                df[col] = df[col].astype(np.int64)\n",
        "    return df\n",
        "\n",
        "\n",
        "converted_df=auto_data_type(df)"
      ],
      "metadata": {
        "id": "E74J5t8_2Lo5"
      },
      "execution_count": 99,
      "outputs": []
    },
    {
      "cell_type": "code",
      "source": [
        "converted_df.info()"
      ],
      "metadata": {
        "colab": {
          "base_uri": "https://localhost:8080/"
        },
        "id": "oSO6dgADhXDz",
        "outputId": "3f3ad240-03be-42f6-fc49-ad282c96ef7b"
      },
      "execution_count": 101,
      "outputs": [
        {
          "output_type": "execute_result",
          "data": {
            "text/plain": [
              "Severity                 0\n",
              "Start_Time               0\n",
              "End_Time                 0\n",
              "Start_Lat                0\n",
              "Start_Lng                0\n",
              "End_Lat                  0\n",
              "End_Lng                  0\n",
              "Distance(mi)             0\n",
              "Street                   0\n",
              "City                     0\n",
              "County                   0\n",
              "State                    0\n",
              "Zipcode                  0\n",
              "Airport_Code             0\n",
              "Weather_Timestamp        0\n",
              "Temperature(F)           0\n",
              "Wind_Chill(F)            0\n",
              "Humidity(%)              0\n",
              "Pressure(in)             0\n",
              "Visibility(mi)           0\n",
              "Wind_Direction           0\n",
              "Wind_Speed(mph)          0\n",
              "Precipitation(in)        0\n",
              "Weather_Condition        0\n",
              "Amenity                  0\n",
              "Bump                     0\n",
              "Crossing                 0\n",
              "Give_Way                 0\n",
              "Junction                 0\n",
              "No_Exit                  0\n",
              "Railway                  0\n",
              "Roundabout               0\n",
              "Station                  0\n",
              "Stop                     0\n",
              "Traffic_Calming          0\n",
              "Traffic_Signal           0\n",
              "Turning_Loop             0\n",
              "Sunrise_Sunset           0\n",
              "Civil_Twilight           0\n",
              "Nautical_Twilight        0\n",
              "Astronomical_Twilight    0\n",
              "dtype: int64"
            ]
          },
          "metadata": {},
          "execution_count": 101
        }
      ]
    },
    {
      "cell_type": "code",
      "source": [],
      "metadata": {
        "id": "OOh7aH0F2o1d"
      },
      "execution_count": 100,
      "outputs": []
    }
  ]
}