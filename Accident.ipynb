{
  "nbformat": 4,
  "nbformat_minor": 0,
  "metadata": {
    "colab": {
      "provenance": [],
      "gpuType": "T4",
      "authorship_tag": "ABX9TyOCQWmuplHr4fyuxUmeebfX",
      "include_colab_link": true
    },
    "kernelspec": {
      "name": "python3",
      "display_name": "Python 3"
    },
    "language_info": {
      "name": "python"
    },
    "accelerator": "GPU"
  },
  "cells": [
    {
      "cell_type": "markdown",
      "metadata": {
        "id": "view-in-github",
        "colab_type": "text"
      },
      "source": [
        "<a href=\"https://colab.research.google.com/github/mohamad-hk/Influencing-factors-in-America-accidents/blob/main/Accident.ipynb\" target=\"_parent\"><img src=\"https://colab.research.google.com/assets/colab-badge.svg\" alt=\"Open In Colab\"/></a>"
      ]
    },
    {
      "cell_type": "code",
      "execution_count": 1,
      "metadata": {
        "id": "xZXczVGiyomU",
        "colab": {
          "base_uri": "https://localhost:8080/"
        },
        "outputId": "5902e417-fa20-414c-da63-6e5144dc34cb"
      },
      "outputs": [
        {
          "output_type": "stream",
          "name": "stdout",
          "text": [
            "Dataset URL: https://www.kaggle.com/datasets/sobhanmoosavi/us-accidents\n",
            "License(s): CC-BY-NC-SA-4.0\n",
            "Downloading us-accidents.zip to /content\n",
            " 97% 631M/653M [00:01<00:00, 273MB/s]\n",
            "100% 653M/653M [00:01<00:00, 378MB/s]\n",
            "Archive:  us-accidents.zip\n",
            "  inflating: US_Accidents_March23.csv  \n"
          ]
        }
      ],
      "source": [
        "!mkdir ~/.kaggle\n",
        "!cp kaggle.json ~/.kaggle/\n",
        "!chmod 600 ~/.kaggle/kaggle.json\n",
        "!kaggle datasets download -d sobhanmoosavi/us-accidents\n",
        "!unzip us-accidents.zip"
      ]
    },
    {
      "cell_type": "code",
      "source": [
        "!git clone https://github.com/rapidsai/rapidsai-csp-utils.git\n",
        "!python rapidsai-csp-utils/colab/pip-install.py"
      ],
      "metadata": {
        "id": "4AgNE6uXy2N9",
        "colab": {
          "base_uri": "https://localhost:8080/"
        },
        "outputId": "5249064e-eeba-4786-9072-68be42e2f102"
      },
      "execution_count": 2,
      "outputs": [
        {
          "output_type": "stream",
          "name": "stdout",
          "text": [
            "Cloning into 'rapidsai-csp-utils'...\n",
            "remote: Enumerating objects: 603, done.\u001b[K\n",
            "remote: Counting objects: 100% (169/169), done.\u001b[K\n",
            "remote: Compressing objects: 100% (87/87), done.\u001b[K\n",
            "remote: Total 603 (delta 131), reused 82 (delta 82), pack-reused 434 (from 3)\u001b[K\n",
            "Receiving objects: 100% (603/603), 199.38 KiB | 16.61 MiB/s, done.\n",
            "Resolving deltas: 100% (305/305), done.\n",
            "Installing RAPIDS remaining 25.08 libraries\n",
            "Using Python 3.12.11 environment at: /usr\n",
            "Resolved 177 packages in 11.14s\n",
            "Prepared 54 packages in 59.06s\n",
            "Uninstalled 32 packages in 1.02s\n",
            "Installed 54 packages in 364ms\n",
            " + arrow==1.3.0\n",
            " - bokeh==3.7.3\n",
            " + bokeh==3.6.3\n",
            " + cucim-cu12==25.8.0\n",
            " + cuda-bindings==12.9.2\n",
            " + cuda-pathfinder==1.2.1\n",
            " - cuda-python==12.6.2.post1\n",
            " + cuda-python==12.9.2\n",
            " - cudf-cu12==25.6.0 (from https://pypi.nvidia.com/cudf-cu12/cudf_cu12-25.6.0-cp312-cp312-manylinux_2_24_x86_64.manylinux_2_28_x86_64.whl)\n",
            " + cudf-cu12==25.8.0\n",
            " + cugraph-cu12==25.8.0\n",
            " - cuml-cu12==25.6.0\n",
            " + cuml-cu12==25.8.0\n",
            " - cuvs-cu12==25.6.1\n",
            " + cuvs-cu12==25.8.0\n",
            " + cuxfilter-cu12==25.8.0\n",
            " - dask==2025.5.0\n",
            " + dask==2025.7.0\n",
            " - dask-cuda==25.6.0\n",
            " + dask-cuda==25.8.0\n",
            " - dask-cudf-cu12==25.6.0\n",
            " + dask-cudf-cu12==25.8.0\n",
            " + datashader==0.18.2\n",
            " - distributed==2025.5.0\n",
            " + distributed==2025.7.0\n",
            " - distributed-ucxx-cu12==0.44.0\n",
            " + distributed-ucxx-cu12==0.45.1\n",
            " + fqdn==1.5.1\n",
            " - holoviews==1.21.0\n",
            " + holoviews==1.20.2\n",
            " + isoduration==20.11.0\n",
            " - jupyter-client==6.1.12\n",
            " + jupyter-client==8.6.3\n",
            " + jupyter-events==0.12.0\n",
            " - jupyter-server==1.16.0\n",
            " + jupyter-server==2.17.0\n",
            " + jupyter-server-proxy==4.4.0\n",
            " + jupyter-server-terminals==0.5.3\n",
            " + lark==1.2.2\n",
            " - libcudf-cu12==25.6.0 (from https://pypi.nvidia.com/libcudf-cu12/libcudf_cu12-25.6.0-py3-none-manylinux_2_28_x86_64.whl)\n",
            " + libcudf-cu12==25.8.0\n",
            " - libcugraph-cu12==25.6.0\n",
            " + libcugraph-cu12==25.8.0\n",
            " - libcuml-cu12==25.6.0\n",
            " + libcuml-cu12==25.8.0\n",
            " - libcuvs-cu12==25.6.1\n",
            " + libcuvs-cu12==25.8.0\n",
            " - libkvikio-cu12==25.6.0\n",
            " + libkvikio-cu12==25.8.0\n",
            " - libraft-cu12==25.6.0\n",
            " + libraft-cu12==25.8.0\n",
            " - librmm-cu12==25.6.0\n",
            " + librmm-cu12==25.8.0\n",
            " - libucxx-cu12==0.44.0\n",
            " + libucxx-cu12==0.45.1\n",
            " - numba-cuda==0.11.0\n",
            " + numba-cuda==0.14.1\n",
            " + nvidia-cuda-cccl-cu12==12.9.27\n",
            " - nx-cugraph-cu12==25.6.0 (from https://pypi.nvidia.com/nx-cugraph-cu12/nx_cugraph_cu12-25.6.0-py3-none-any.whl)\n",
            " + nx-cugraph-cu12==25.8.0\n",
            " + pyct==0.5.0\n",
            " - pylibcudf-cu12==25.6.0 (from https://pypi.nvidia.com/pylibcudf-cu12/pylibcudf_cu12-25.6.0-cp312-cp312-manylinux_2_24_x86_64.manylinux_2_28_x86_64.whl)\n",
            " + pylibcudf-cu12==25.8.0\n",
            " - pylibcugraph-cu12==25.6.0\n",
            " + pylibcugraph-cu12==25.8.0\n",
            " - pylibraft-cu12==25.6.0\n",
            " + pylibraft-cu12==25.8.0\n",
            " + python-json-logger==3.3.0\n",
            " - raft-dask-cu12==25.6.0\n",
            " + raft-dask-cu12==25.8.0\n",
            " - rapids-dask-dependency==25.6.0\n",
            " + rapids-dask-dependency==25.8.0\n",
            " + rfc3339-validator==0.1.4\n",
            " + rfc3986-validator==0.1.1\n",
            " + rfc3987-syntax==1.1.0\n",
            " - rmm-cu12==25.6.0\n",
            " + rmm-cu12==25.8.0\n",
            " - shapely==2.1.1\n",
            " + shapely==2.0.7\n",
            " + simpervisor==1.0.0\n",
            " + types-python-dateutil==2.9.0.20250822\n",
            " - ucx-py-cu12==0.44.0\n",
            " + ucx-py-cu12==0.45.0\n",
            " - ucxx-cu12==0.44.0\n",
            " + ucxx-cu12==0.45.1\n",
            " + uri-template==1.3.0\n",
            "\n",
            "        ***********************************************************************\n",
            "        The pip install of RAPIDS is complete.\n",
            "\n",
            "        Please do not run any further installation from the conda based installation methods, as they may cause issues!\n",
            "\n",
            "        Please ensure that you're pulling from the git repo to remain updated with the latest working install scripts.\n",
            "\n",
            "        Troubleshooting:\n",
            "            - If there is an installation failure, please check back on RAPIDSAI owned templates/notebooks to see how to update your personal files.\n",
            "            - If an installation failure persists when using the latest script, please make an issue on https://github.com/rapidsai-community/rapidsai-csp-utils\n",
            "        ***********************************************************************\n",
            "        \n"
          ]
        }
      ]
    },
    {
      "cell_type": "code",
      "source": [
        "import numpy as np\n",
        "import pandas as pd\n",
        "import time\n",
        "from tabulate import tabulate\n",
        "import cudf\n",
        "from sklearn.preprocessing import LabelEncoder"
      ],
      "metadata": {
        "id": "F_UfB5Nq8Npw"
      },
      "execution_count": 3,
      "outputs": []
    },
    {
      "cell_type": "code",
      "source": [
        "df=cudf.read_csv(\"US_Accidents_March23.csv\")"
      ],
      "metadata": {
        "id": "sIqXnXRS0gfw",
        "collapsed": true
      },
      "execution_count": 8,
      "outputs": []
    },
    {
      "cell_type": "code",
      "source": [
        "df.info()"
      ],
      "metadata": {
        "id": "-zJF3hbY5564",
        "colab": {
          "base_uri": "https://localhost:8080/"
        },
        "outputId": "18c7c8e5-ad68-4a3c-af1f-d49c3cd780c8"
      },
      "execution_count": 5,
      "outputs": [
        {
          "output_type": "stream",
          "name": "stdout",
          "text": [
            "<class 'cudf.core.dataframe.DataFrame'>\n",
            "RangeIndex: 7728394 entries, 0 to 7728393\n",
            "Data columns (total 46 columns):\n",
            " #   Column                 Dtype\n",
            "---  ------                 -----\n",
            " 0   ID                     object\n",
            " 1   Source                 object\n",
            " 2   Severity               int64\n",
            " 3   Start_Time             object\n",
            " 4   End_Time               object\n",
            " 5   Start_Lat              float64\n",
            " 6   Start_Lng              float64\n",
            " 7   End_Lat                float64\n",
            " 8   End_Lng                float64\n",
            " 9   Distance(mi)           float64\n",
            " 10  Description            object\n",
            " 11  Street                 object\n",
            " 12  City                   object\n",
            " 13  County                 object\n",
            " 14  State                  object\n",
            " 15  Zipcode                object\n",
            " 16  Country                object\n",
            " 17  Timezone               object\n",
            " 18  Airport_Code           object\n",
            " 19  Weather_Timestamp      object\n",
            " 20  Temperature(F)         float64\n",
            " 21  Wind_Chill(F)          float64\n",
            " 22  Humidity(%)            float64\n",
            " 23  Pressure(in)           float64\n",
            " 24  Visibility(mi)         float64\n",
            " 25  Wind_Direction         object\n",
            " 26  Wind_Speed(mph)        float64\n",
            " 27  Precipitation(in)      float64\n",
            " 28  Weather_Condition      object\n",
            " 29  Amenity                bool\n",
            " 30  Bump                   bool\n",
            " 31  Crossing               bool\n",
            " 32  Give_Way               bool\n",
            " 33  Junction               bool\n",
            " 34  No_Exit                bool\n",
            " 35  Railway                bool\n",
            " 36  Roundabout             bool\n",
            " 37  Station                bool\n",
            " 38  Stop                   bool\n",
            " 39  Traffic_Calming        bool\n",
            " 40  Traffic_Signal         bool\n",
            " 41  Turning_Loop           bool\n",
            " 42  Sunrise_Sunset         object\n",
            " 43  Civil_Twilight         object\n",
            " 44  Nautical_Twilight      object\n",
            " 45  Astronomical_Twilight  object\n",
            "dtypes: bool(13), float64(12), int64(1), object(20)\n",
            "memory usage: 3.0+ GB\n"
          ]
        }
      ]
    },
    {
      "cell_type": "code",
      "source": [
        "df.drop(columns=[\"ID\", \"Description\", \"County\"], inplace=True)\n",
        "df.info()"
      ],
      "metadata": {
        "id": "Vq0xNTjb8zxz",
        "colab": {
          "base_uri": "https://localhost:8080/"
        },
        "outputId": "15e30b47-b48c-4b3f-a778-326c2a8c471e"
      },
      "execution_count": 9,
      "outputs": [
        {
          "output_type": "stream",
          "name": "stdout",
          "text": [
            "<class 'cudf.core.dataframe.DataFrame'>\n",
            "RangeIndex: 7728394 entries, 0 to 7728393\n",
            "Data columns (total 43 columns):\n",
            " #   Column                 Dtype\n",
            "---  ------                 -----\n",
            " 0   Source                 object\n",
            " 1   Severity               int64\n",
            " 2   Start_Time             object\n",
            " 3   End_Time               object\n",
            " 4   Start_Lat              float64\n",
            " 5   Start_Lng              float64\n",
            " 6   End_Lat                float64\n",
            " 7   End_Lng                float64\n",
            " 8   Distance(mi)           float64\n",
            " 9   Street                 object\n",
            " 10  City                   object\n",
            " 11  State                  object\n",
            " 12  Zipcode                object\n",
            " 13  Country                object\n",
            " 14  Timezone               object\n",
            " 15  Airport_Code           object\n",
            " 16  Weather_Timestamp      object\n",
            " 17  Temperature(F)         float64\n",
            " 18  Wind_Chill(F)          float64\n",
            " 19  Humidity(%)            float64\n",
            " 20  Pressure(in)           float64\n",
            " 21  Visibility(mi)         float64\n",
            " 22  Wind_Direction         object\n",
            " 23  Wind_Speed(mph)        float64\n",
            " 24  Precipitation(in)      float64\n",
            " 25  Weather_Condition      object\n",
            " 26  Amenity                bool\n",
            " 27  Bump                   bool\n",
            " 28  Crossing               bool\n",
            " 29  Give_Way               bool\n",
            " 30  Junction               bool\n",
            " 31  No_Exit                bool\n",
            " 32  Railway                bool\n",
            " 33  Roundabout             bool\n",
            " 34  Station                bool\n",
            " 35  Stop                   bool\n",
            " 36  Traffic_Calming        bool\n",
            " 37  Traffic_Signal         bool\n",
            " 38  Turning_Loop           bool\n",
            " 39  Sunrise_Sunset         object\n",
            " 40  Civil_Twilight         object\n",
            " 41  Nautical_Twilight      object\n",
            " 42  Astronomical_Twilight  object\n",
            "dtypes: bool(13), float64(12), int64(1), object(17)\n",
            "memory usage: 2.3+ GB\n"
          ]
        }
      ]
    },
    {
      "cell_type": "code",
      "source": [
        "def auto_data_type(df):\n",
        "    for col in df.select_dtypes(include=[np.number]).columns:\n",
        "        min_value = df[col].min()\n",
        "        max_value = df[col].max()\n",
        "\n",
        "        if pd.api.types.is_float_dtype(df[col]):\n",
        "            df[col] = df[col].astype(np.float32)\n",
        "        elif min_value >= 0:\n",
        "            if max_value <= 255:\n",
        "                df[col] = df[col].astype(np.uint8)\n",
        "            elif max_value <= 65535:\n",
        "                df[col] = df[col].astype(np.uint16)\n",
        "            elif max_value <= 4294967295:\n",
        "                df[col] = df[col].astype(np.uint32)\n",
        "            else:\n",
        "                df[col] = df[col].astype(np.uint64)\n",
        "        else:\n",
        "            if -128 <= min_value and max_value <= 127:\n",
        "                df[col] = df[col].astype(np.int8)\n",
        "            elif -32768 <= min_value and max_value <= 32767:\n",
        "                df[col] = df[col].astype(np.int16)\n",
        "            elif -2147483648 <= min_value and max_value <= 2147483647:\n",
        "                df[col] = df[col].astype(np.int32)\n",
        "            else:\n",
        "                df[col] = df[col].astype(np.int64)\n",
        "    return df\n",
        "\n",
        "\n",
        "converted_df=auto_data_type(df)"
      ],
      "metadata": {
        "id": "91HgFukzAmi8"
      },
      "execution_count": 10,
      "outputs": []
    },
    {
      "cell_type": "code",
      "source": [
        "converted_df.info()"
      ],
      "metadata": {
        "id": "wpp3dwriBPfv",
        "colab": {
          "base_uri": "https://localhost:8080/"
        },
        "outputId": "8f846ddf-0dfc-4d89-bd25-3342ae7522e4"
      },
      "execution_count": 11,
      "outputs": [
        {
          "output_type": "stream",
          "name": "stdout",
          "text": [
            "<class 'cudf.core.dataframe.DataFrame'>\n",
            "RangeIndex: 7728394 entries, 0 to 7728393\n",
            "Data columns (total 43 columns):\n",
            " #   Column                 Dtype\n",
            "---  ------                 -----\n",
            " 0   Source                 object\n",
            " 1   Severity               uint8\n",
            " 2   Start_Time             object\n",
            " 3   End_Time               object\n",
            " 4   Start_Lat              float32\n",
            " 5   Start_Lng              float32\n",
            " 6   End_Lat                float32\n",
            " 7   End_Lng                float32\n",
            " 8   Distance(mi)           float32\n",
            " 9   Street                 object\n",
            " 10  City                   object\n",
            " 11  State                  object\n",
            " 12  Zipcode                object\n",
            " 13  Country                object\n",
            " 14  Timezone               object\n",
            " 15  Airport_Code           object\n",
            " 16  Weather_Timestamp      object\n",
            " 17  Temperature(F)         float32\n",
            " 18  Wind_Chill(F)          float32\n",
            " 19  Humidity(%)            float32\n",
            " 20  Pressure(in)           float32\n",
            " 21  Visibility(mi)         float32\n",
            " 22  Wind_Direction         object\n",
            " 23  Wind_Speed(mph)        float32\n",
            " 24  Precipitation(in)      float32\n",
            " 25  Weather_Condition      object\n",
            " 26  Amenity                bool\n",
            " 27  Bump                   bool\n",
            " 28  Crossing               bool\n",
            " 29  Give_Way               bool\n",
            " 30  Junction               bool\n",
            " 31  No_Exit                bool\n",
            " 32  Railway                bool\n",
            " 33  Roundabout             bool\n",
            " 34  Station                bool\n",
            " 35  Stop                   bool\n",
            " 36  Traffic_Calming        bool\n",
            " 37  Traffic_Signal         bool\n",
            " 38  Turning_Loop           bool\n",
            " 39  Sunrise_Sunset         object\n",
            " 40  Civil_Twilight         object\n",
            " 41  Nautical_Twilight      object\n",
            " 42  Astronomical_Twilight  object\n",
            "dtypes: bool(13), float32(12), object(17), uint8(1)\n",
            "memory usage: 1.9+ GB\n"
          ]
        }
      ]
    },
    {
      "cell_type": "code",
      "source": [
        "text_columns = [\n",
        "    \"Source\", \"City\", \"State\", \"Weather_Condition\",\"Street\",\n",
        "    \"Wind_Direction\", \"Sunrise_Sunset\", \"Civil_Twilight\",\n",
        "    \"Nautical_Twilight\", \"Astronomical_Twilight\"\n",
        "]\n",
        "\n",
        "for c in text_columns:\n",
        "    encoder = LabelEncoder()\n",
        "    encoded = encoder.fit_transform(converted_df[c].to_pandas().astype(str))\n",
        "    converted_df[c] = cudf.Series(encoded).astype(\"uint16\")\n"
      ],
      "metadata": {
        "id": "7CwLLOZL_0Mb"
      },
      "execution_count": 12,
      "outputs": []
    },
    {
      "cell_type": "code",
      "source": [
        "converted_df[\"Timezone\"] = cudf.Series(encoder.fit_transform(converted_df[\"Timezone\"].to_pandas())).astype(\"uint8\")\n",
        "converted_df[\"Airport_Code\"] = cudf.Series(encoder.fit_transform(converted_df[\"Airport_Code\"].to_pandas())).astype(\"uint8\")"
      ],
      "metadata": {
        "id": "JmxO7GFD_9M2"
      },
      "execution_count": 13,
      "outputs": []
    },
    {
      "cell_type": "code",
      "source": [
        "cols = [\"Amenity\", \"Bump\", \"Crossing\", \"Give_Way\", \"Junction\", \"No_Exit\",\n",
        "        \"Railway\", \"Roundabout\", \"Station\", \"Stop\", \"Traffic_Calming\",\n",
        "        \"Traffic_Signal\", \"Turning_Loop\"]\n",
        "\n",
        "for col in cols:\n",
        "    converted_df[col] = converted_df[col].astype(\"uint8\")"
      ],
      "metadata": {
        "id": "w42pBm0gBtDr"
      },
      "execution_count": 14,
      "outputs": []
    },
    {
      "cell_type": "code",
      "source": [
        "converted_df.info()"
      ],
      "metadata": {
        "id": "NQ5P47EbEkwj",
        "colab": {
          "base_uri": "https://localhost:8080/"
        },
        "outputId": "1a66f7ba-533e-4a3c-ebba-15ae9a5d57cf"
      },
      "execution_count": 15,
      "outputs": [
        {
          "output_type": "stream",
          "name": "stdout",
          "text": [
            "<class 'cudf.core.dataframe.DataFrame'>\n",
            "RangeIndex: 7728394 entries, 0 to 7728393\n",
            "Data columns (total 43 columns):\n",
            " #   Column                 Dtype\n",
            "---  ------                 -----\n",
            " 0   Source                 uint16\n",
            " 1   Severity               uint8\n",
            " 2   Start_Time             object\n",
            " 3   End_Time               object\n",
            " 4   Start_Lat              float32\n",
            " 5   Start_Lng              float32\n",
            " 6   End_Lat                float32\n",
            " 7   End_Lng                float32\n",
            " 8   Distance(mi)           float32\n",
            " 9   Street                 uint16\n",
            " 10  City                   uint16\n",
            " 11  State                  uint16\n",
            " 12  Zipcode                object\n",
            " 13  Country                object\n",
            " 14  Timezone               uint8\n",
            " 15  Airport_Code           uint8\n",
            " 16  Weather_Timestamp      object\n",
            " 17  Temperature(F)         float32\n",
            " 18  Wind_Chill(F)          float32\n",
            " 19  Humidity(%)            float32\n",
            " 20  Pressure(in)           float32\n",
            " 21  Visibility(mi)         float32\n",
            " 22  Wind_Direction         uint16\n",
            " 23  Wind_Speed(mph)        float32\n",
            " 24  Precipitation(in)      float32\n",
            " 25  Weather_Condition      uint16\n",
            " 26  Amenity                uint8\n",
            " 27  Bump                   uint8\n",
            " 28  Crossing               uint8\n",
            " 29  Give_Way               uint8\n",
            " 30  Junction               uint8\n",
            " 31  No_Exit                uint8\n",
            " 32  Railway                uint8\n",
            " 33  Roundabout             uint8\n",
            " 34  Station                uint8\n",
            " 35  Stop                   uint8\n",
            " 36  Traffic_Calming        uint8\n",
            " 37  Traffic_Signal         uint8\n",
            " 38  Turning_Loop           uint8\n",
            " 39  Sunrise_Sunset         uint16\n",
            " 40  Civil_Twilight         uint16\n",
            " 41  Nautical_Twilight      uint16\n",
            " 42  Astronomical_Twilight  uint16\n",
            "dtypes: float32(12), object(5), uint16(10), uint8(16)\n",
            "memory usage: 1.2+ GB\n"
          ]
        }
      ]
    }
  ]
}